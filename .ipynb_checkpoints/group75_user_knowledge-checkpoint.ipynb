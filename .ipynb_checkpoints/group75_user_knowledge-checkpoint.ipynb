{
 "cells": [
  {
   "cell_type": "code",
   "execution_count": null,
   "id": "bba7f5d2-d882-4fbe-b91c-911e6c49d113",
   "metadata": {},
   "outputs": [],
   "source": [
    "Title: "
   ]
  },
  {
   "cell_type": "code",
   "execution_count": null,
   "id": "ed82bbca-f7e6-410b-ad17-d820305055b5",
   "metadata": {},
   "outputs": [],
   "source": [
    "Introduction:"
   ]
  },
  {
   "cell_type": "code",
   "execution_count": null,
   "id": "a9913131-aa32-4985-8938-d8bd801aecdf",
   "metadata": {},
   "outputs": [],
   "source": [
    "Preliminary exploratory data analysis:"
   ]
  },
  {
   "cell_type": "code",
   "execution_count": null,
   "id": "ec452b8b-97fb-4cf1-a1ec-c5da4f9159eb",
   "metadata": {},
   "outputs": [],
   "source": [
    "Methods:"
   ]
  },
  {
   "cell_type": "code",
   "execution_count": null,
   "id": "78efb1cc-8061-4f46-a248-e2f39b6132af",
   "metadata": {},
   "outputs": [],
   "source": [
    "Expected outcomes and significance:"
   ]
  }
 ],
 "metadata": {
  "kernelspec": {
   "display_name": "R",
   "language": "R",
   "name": "ir"
  },
  "language_info": {
   "codemirror_mode": "r",
   "file_extension": ".r",
   "mimetype": "text/x-r-source",
   "name": "R",
   "pygments_lexer": "r",
   "version": "4.1.3"
  }
 },
 "nbformat": 4,
 "nbformat_minor": 5
}
